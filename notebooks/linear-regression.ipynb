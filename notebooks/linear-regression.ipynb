{
 "cells": [
  {
   "cell_type": "markdown",
   "metadata": {},
   "source": [
    "# Linear Regression Basics\n",
    "\n",
    "This notebook is based on the exercises in the Anaconda training [Getting started with AI and ML](https://learning.anaconda.cloud/getting-started-with-ai-ml).\n",
    "\n",
    "I'm copying my notes here as a more in-depth test of the ability to publish directly from Jupyter notebooks, and also to put my notes somewhere I can access them later!"
   ]
  },
  {
   "cell_type": "markdown",
   "metadata": {},
   "source": [
    "##  Linear Regression\n",
    "\n",
    "The most commonly used supervised machine learning algorithm. \n",
    "\n",
    "This module covered: \n",
    "\n",
    "- Fit a line to data\n",
    "- Measure loss with residuals and sum of squares\n",
    "- Use `scikit-learn`` to fit a linear regression\n",
    "- Evaluate a linear regression using R2 and train-test splits \n",
    "\n",
    "### Advantages\n",
    "\n",
    "- simple to understand and interpret \n",
    "- doesn't over-fit\n",
    "\n",
    "### When is Linear Regression suitable?\n",
    "\n",
    "1. variables are continuous, not binary or categorical (use logistic regression for the latter)\n",
    "2. input variables follow a Gaussian (bell curve) distribution\n",
    "3. input variables are relevant to the output variables and _not_ highly correlated with each other (collinearity)\n",
    "\n",
    "\n",
    "### Simple Linear Regression\n",
    "\n",
    "ML often splits into two tasks - **regression** (predict quantity) and **classification** (predict a category)\n",
    "\n",
    "E.g $y = mx+b$\n",
    "\n",
    "Challenge is to define `m` and `b` for \"best fit\"\n",
    "\n",
    "### Multiple linear regression\n",
    "\n",
    "With multiple independent variables\n",
    "\n",
    "e.g. $y = \\beta_0 + \\beta_1x_1 + \\beta_2x_2 + \\epsilon$\n",
    "\n",
    "$\\epsilon $ is error due to noise\n",
    "\n",
    "Multiple variables can get complex, important to use tools to help select only input variables correlated with the output variables.\n",
    "\n",
    "e.g.:\n",
    "\n",
    "- Pearson correlation and $R^2$\n",
    "- adjusted $R^2$\n",
    "- Akakike Information Criterion\n",
    "- Ridge and lasso regression\n",
    "\n",
    "#furtherlearning\n",
    "\n",
    "### Residuals\n",
    "\n",
    "**Residuals** are the difference between the data points and the equivalent regression. Linear Regression models aim to minimise the regressions by optimising a **loss function** such as Sum of Squares.  \n",
    "\n",
    "### Overfitting\n",
    "\n",
    "When ML model works well with training data but fails to predict correctly with  new data. Linear regression tends to show low variance and high bias, so less likely to be overfitted. *(define terms variance and bias)*\n",
    "\n",
    "### Train/Test Splits\n",
    "\n",
    "Common technique to mitigate overfitting is the use of train/test splits. Training data is used to fit the model, then test data is used to test it with previously-unseen data, if necessary the model can then be tweaked.\n",
    "\n",
    "### Evaluating the model with $R^2$\n",
    "\n",
    "$R^2$ (the **coefficient of determination**) ratios the average y-value to the average of the residuals. \n",
    "\n",
    "It measures how well the independent variables explain a dependent variable, with **0.0** meaning no connection and **1.0** meaning a perfect explanation."
   ]
  },
  {
   "cell_type": "markdown",
   "metadata": {},
   "source": [
    "## Example using `scikit-learn`\n",
    "\n",
    "The package `scikit-learn` contains many tools to support Machine LEarning techniquies such as Linear Regression.\n",
    "\n",
    "This worked example demonstrates some of them."
   ]
  },
  {
   "cell_type": "markdown",
   "metadata": {},
   "source": [
    "First we import the packages we are going to use, making use of two key utilities from `scikit-learn`:\n",
    "\n",
    "- [`train_test_split`](https://scikit-learn.org/stable/modules/generated/sklearn.model_selection.train_test_split.html) makes it easy to split a set of data into training and test subsets.\n",
    "- [`LinearRegression`](https://scikit-learn.org/stable/modules/generated/sklearn.linear_model.LinearRegression.html#sklearn.linear_model.LinearRegression) fits a linear model with coefficients w = (w1, …, wp) to minimize the residual sum of squares between the observed targets in the dataset, and the targets predicted by the linear approximation."
   ]
  },
  {
   "cell_type": "code",
   "execution_count": 28,
   "metadata": {},
   "outputs": [],
   "source": [
    "import pandas as pd\n",
    "from sklearn.linear_model import LinearRegression\n",
    "from sklearn.model_selection import train_test_split"
   ]
  },
  {
   "cell_type": "markdown",
   "metadata": {},
   "source": [
    "We need to import our data into a pandas DataFrame. For convenience I am using one of the [datasets provided by the course author](https://github.com/thomasnield/machine-learning-demo-data/)"
   ]
  },
  {
   "cell_type": "code",
   "execution_count": 29,
   "metadata": {},
   "outputs": [
    {
     "data": {
      "text/html": [
       "<div>\n",
       "<style scoped>\n",
       "    .dataframe tbody tr th:only-of-type {\n",
       "        vertical-align: middle;\n",
       "    }\n",
       "\n",
       "    .dataframe tbody tr th {\n",
       "        vertical-align: top;\n",
       "    }\n",
       "\n",
       "    .dataframe thead th {\n",
       "        text-align: right;\n",
       "    }\n",
       "</style>\n",
       "<table border=\"1\" class=\"dataframe\">\n",
       "  <thead>\n",
       "    <tr style=\"text-align: right;\">\n",
       "      <th></th>\n",
       "      <th>x</th>\n",
       "      <th>y</th>\n",
       "    </tr>\n",
       "  </thead>\n",
       "  <tbody>\n",
       "    <tr>\n",
       "      <th>0</th>\n",
       "      <td>1</td>\n",
       "      <td>-13.115843</td>\n",
       "    </tr>\n",
       "    <tr>\n",
       "      <th>1</th>\n",
       "      <td>2</td>\n",
       "      <td>25.806547</td>\n",
       "    </tr>\n",
       "    <tr>\n",
       "      <th>2</th>\n",
       "      <td>3</td>\n",
       "      <td>-5.017285</td>\n",
       "    </tr>\n",
       "    <tr>\n",
       "      <th>3</th>\n",
       "      <td>4</td>\n",
       "      <td>20.256415</td>\n",
       "    </tr>\n",
       "    <tr>\n",
       "      <th>4</th>\n",
       "      <td>5</td>\n",
       "      <td>4.075003</td>\n",
       "    </tr>\n",
       "    <tr>\n",
       "      <th>5</th>\n",
       "      <td>6</td>\n",
       "      <td>-3.530260</td>\n",
       "    </tr>\n",
       "    <tr>\n",
       "      <th>6</th>\n",
       "      <td>7</td>\n",
       "      <td>24.045999</td>\n",
       "    </tr>\n",
       "    <tr>\n",
       "      <th>7</th>\n",
       "      <td>8</td>\n",
       "      <td>22.112566</td>\n",
       "    </tr>\n",
       "    <tr>\n",
       "      <th>8</th>\n",
       "      <td>9</td>\n",
       "      <td>5.968591</td>\n",
       "    </tr>\n",
       "    <tr>\n",
       "      <th>9</th>\n",
       "      <td>10</td>\n",
       "      <td>43.392339</td>\n",
       "    </tr>\n",
       "    <tr>\n",
       "      <th>10</th>\n",
       "      <td>11</td>\n",
       "      <td>32.224643</td>\n",
       "    </tr>\n",
       "    <tr>\n",
       "      <th>11</th>\n",
       "      <td>12</td>\n",
       "      <td>14.666142</td>\n",
       "    </tr>\n",
       "    <tr>\n",
       "      <th>12</th>\n",
       "      <td>13</td>\n",
       "      <td>17.966141</td>\n",
       "    </tr>\n",
       "    <tr>\n",
       "      <th>13</th>\n",
       "      <td>14</td>\n",
       "      <td>-2.754718</td>\n",
       "    </tr>\n",
       "    <tr>\n",
       "      <th>14</th>\n",
       "      <td>15</td>\n",
       "      <td>25.156840</td>\n",
       "    </tr>\n",
       "    <tr>\n",
       "      <th>15</th>\n",
       "      <td>16</td>\n",
       "      <td>20.182870</td>\n",
       "    </tr>\n",
       "    <tr>\n",
       "      <th>16</th>\n",
       "      <td>17</td>\n",
       "      <td>22.281929</td>\n",
       "    </tr>\n",
       "    <tr>\n",
       "      <th>17</th>\n",
       "      <td>18</td>\n",
       "      <td>16.757447</td>\n",
       "    </tr>\n",
       "    <tr>\n",
       "      <th>18</th>\n",
       "      <td>19</td>\n",
       "      <td>54.219575</td>\n",
       "    </tr>\n",
       "    <tr>\n",
       "      <th>19</th>\n",
       "      <td>20</td>\n",
       "      <td>60.564151</td>\n",
       "    </tr>\n",
       "  </tbody>\n",
       "</table>\n",
       "</div>"
      ],
      "text/plain": [
       "     x          y\n",
       "0    1 -13.115843\n",
       "1    2  25.806547\n",
       "2    3  -5.017285\n",
       "3    4  20.256415\n",
       "4    5   4.075003\n",
       "5    6  -3.530260\n",
       "6    7  24.045999\n",
       "7    8  22.112566\n",
       "8    9   5.968591\n",
       "9   10  43.392339\n",
       "10  11  32.224643\n",
       "11  12  14.666142\n",
       "12  13  17.966141\n",
       "13  14  -2.754718\n",
       "14  15  25.156840\n",
       "15  16  20.182870\n",
       "16  17  22.281929\n",
       "17  18  16.757447\n",
       "18  19  54.219575\n",
       "19  20  60.564151"
      ]
     },
     "execution_count": 29,
     "metadata": {},
     "output_type": "execute_result"
    }
   ],
   "source": [
    "# Load the data\n",
    "df = pd.read_csv('https://bit.ly/3pBKSuN', delimiter=\",\")\n",
    "df"
   ]
  },
  {
   "cell_type": "markdown",
   "metadata": {},
   "source": [
    "We need to split our data into inputs and the associated outputs"
   ]
  },
  {
   "cell_type": "code",
   "execution_count": 30,
   "metadata": {},
   "outputs": [],
   "source": [
    "# Extract input variables (all rows, all columns but last column)\n",
    "X = df.values[:, :-1]\n",
    "\n",
    "# Extract output column (all rows, last column)\n",
    "Y = df.values[:, -1]"
   ]
  },
  {
   "cell_type": "markdown",
   "metadata": {},
   "source": [
    "We then need to create separate training and testing data to evaluate performance and reduce overfitting.\n",
    "Her ewe make use of the [`train_test_split`](https://scikit-learn.org/stable/modules/generated/sklearn.model_selection.train_test_split.html) utility."
   ]
  },
  {
   "cell_type": "code",
   "execution_count": 31,
   "metadata": {},
   "outputs": [],
   "source": [
    "X_train, X_test, Y_train, Y_test = train_test_split(X, Y, test_size=1.0/3.0, random_state=10)"
   ]
  },
  {
   "cell_type": "markdown",
   "metadata": {},
   "source": [
    "Next:\n",
    "- we train the standard [`LinearRegression`](https://scikit-learn.org/stable/modules/generated/sklearn.linear_model.LinearRegression.html#sklearn.linear_model.LinearRegression) model provided by `scikit-learn` against our training data\n",
    "- then we use the trained model to fit a regression to our test data\n",
    "\n",
    "The utility allows us to easily score the model using $R^2$."
   ]
  },
  {
   "cell_type": "code",
   "execution_count": 32,
   "metadata": {},
   "outputs": [
    {
     "name": "stdout",
     "output_type": "stream",
     "text": [
      "R^2: 0.182\n"
     ]
    }
   ],
   "source": [
    "model = LinearRegression()\n",
    "model.fit(X_train, Y_train)\n",
    "result = model.score(X_test, Y_test)\n",
    "print(\"R^2: %.3f\" % result)"
   ]
  },
  {
   "cell_type": "markdown",
   "metadata": {},
   "source": [
    "Using `matplotlib` we can visualise the model output against the whole input data set"
   ]
  },
  {
   "cell_type": "code",
   "execution_count": 33,
   "metadata": {},
   "outputs": [
    {
     "data": {
      "image/png": "[encoded data removed]",
      "text/plain": [
       "<Figure size 640x480 with 1 Axes>"
      ]
     },
     "metadata": {},
     "output_type": "display_data"
    }
   ],
   "source": [
    "import matplotlib.pyplot as plt\n",
    "\n",
    "plt.plot(X, Y, 'o') # scatterplot\n",
    "plt.plot(X, model.coef_.flatten()*X+model.intercept_.flatten()) # line\n",
    "plt.show()"
   ]
  }
 ],
 "metadata": {
  "kernelspec": {
   "display_name": "syn",
   "language": "python",
   "name": "syn"
  },
  "language_info": {
   "codemirror_mode": {
    "name": "ipython",
    "version": 3
   },
   "file_extension": ".py",
   "mimetype": "text/x-python",
   "name": "python",
   "nbconvert_exporter": "python",
   "pygments_lexer": "ipython3",
   "version": "3.11.5"
  }
 },
 "nbformat": 4,
 "nbformat_minor": 2
}
